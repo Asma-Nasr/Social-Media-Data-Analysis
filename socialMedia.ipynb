{
 "cells": [
  {
   "cell_type": "code",
   "execution_count": 2,
   "metadata": {},
   "outputs": [],
   "source": [
    "import pandas as pd\n",
    "data = pd.read_csv('social_media_data.csv')"
   ]
  },
  {
   "cell_type": "code",
   "execution_count": 3,
   "metadata": {},
   "outputs": [
    {
     "data": {
      "text/html": [
       "<div>\n",
       "<style scoped>\n",
       "    .dataframe tbody tr th:only-of-type {\n",
       "        vertical-align: middle;\n",
       "    }\n",
       "\n",
       "    .dataframe tbody tr th {\n",
       "        vertical-align: top;\n",
       "    }\n",
       "\n",
       "    .dataframe thead th {\n",
       "        text-align: right;\n",
       "    }\n",
       "</style>\n",
       "<table border=\"1\" class=\"dataframe\">\n",
       "  <thead>\n",
       "    <tr style=\"text-align: right;\">\n",
       "      <th></th>\n",
       "      <th>date</th>\n",
       "      <th>platform</th>\n",
       "      <th>post_type</th>\n",
       "      <th>likes</th>\n",
       "      <th>shares</th>\n",
       "      <th>comments</th>\n",
       "      <th>views</th>\n",
       "    </tr>\n",
       "  </thead>\n",
       "  <tbody>\n",
       "    <tr>\n",
       "      <th>0</th>\n",
       "      <td>2023-05-24</td>\n",
       "      <td>Twitter</td>\n",
       "      <td>image</td>\n",
       "      <td>868.0</td>\n",
       "      <td>238.0</td>\n",
       "      <td>352.0</td>\n",
       "      <td>8836.0</td>\n",
       "    </tr>\n",
       "    <tr>\n",
       "      <th>1</th>\n",
       "      <td>2023-02-23</td>\n",
       "      <td>Twitter</td>\n",
       "      <td>image</td>\n",
       "      <td>944.0</td>\n",
       "      <td>610.0</td>\n",
       "      <td>146.0</td>\n",
       "      <td>5554.0</td>\n",
       "    </tr>\n",
       "    <tr>\n",
       "      <th>2</th>\n",
       "      <td>2023-03-18</td>\n",
       "      <td>Instagram</td>\n",
       "      <td>image</td>\n",
       "      <td>1067.0</td>\n",
       "      <td>858.0</td>\n",
       "      <td>365.0</td>\n",
       "      <td>4018.0</td>\n",
       "    </tr>\n",
       "  </tbody>\n",
       "</table>\n",
       "</div>"
      ],
      "text/plain": [
       "        date   platform post_type   likes  shares  comments   views\n",
       "0 2023-05-24    Twitter     image   868.0   238.0     352.0  8836.0\n",
       "1 2023-02-23    Twitter     image   944.0   610.0     146.0  5554.0\n",
       "2 2023-03-18  Instagram     image  1067.0   858.0     365.0  4018.0"
      ]
     },
     "execution_count": 3,
     "metadata": {},
     "output_type": "execute_result"
    }
   ],
   "source": [
    "# Convert date to datetime format\n",
    "data['date'] = pd.to_datetime(data['date'])\n",
    "data.head(3)"
   ]
  },
  {
   "cell_type": "markdown",
   "metadata": {},
   "source": [
    "### Questions"
   ]
  },
  {
   "cell_type": "markdown",
   "metadata": {},
   "source": [
    "1. What was the total number of likes, shares, comments, and views (for videos) over the year?"
   ]
  },
  {
   "cell_type": "code",
   "execution_count": 5,
   "metadata": {},
   "outputs": [
    {
     "name": "stdout",
     "output_type": "stream",
     "text": [
      "Total for videos:\n",
      "Likes: 816170.0\n",
      "Shares: 311040.0\n",
      "Comments: 194139.0\n",
      "Views: 4464731.0\n"
     ]
    }
   ],
   "source": [
    "# 1 Total likes, shares, comments, and views for videos\n",
    "video_data = data[data['post_type'] == 'video']\n",
    "total_likes_videos = video_data['likes'].sum()\n",
    "total_shares_videos = video_data['shares'].sum()\n",
    "total_comments_videos = video_data['comments'].sum()\n",
    "total_views_videos = video_data['views'].sum()\n",
    "\n",
    "print(\"Total for videos:\")\n",
    "print(f\"Likes: {total_likes_videos}\")\n",
    "print(f\"Shares: {total_shares_videos}\")\n",
    "print(f\"Comments: {total_comments_videos}\")\n",
    "print(f\"Views: {total_views_videos}\")\n"
   ]
  },
  {
   "cell_type": "markdown",
   "metadata": {},
   "source": [
    "2. Which platform had the highest engagement? (engagement = likes + shares + comments)"
   ]
  },
  {
   "cell_type": "code",
   "execution_count": 12,
   "metadata": {},
   "outputs": [
    {
     "name": "stdout",
     "output_type": "stream",
     "text": [
      "Platform with the highest engagement: Instagram\n"
     ]
    }
   ],
   "source": [
    "# 2 Platform with the highest engagement\n",
    "data['engagement'] = data['likes']+data['shares'] + data['comments']\n",
    "platform_engagement = data.groupby('platform')['engagement'].sum().idxmax()\n",
    "\n",
    "print(f\"Platform with the highest engagement: {platform_engagement}\")"
   ]
  },
  {
   "cell_type": "markdown",
   "metadata": {},
   "source": [
    "3. What was the average number of likes, shares, comments, and views per post on each platform?"
   ]
  },
  {
   "cell_type": "code",
   "execution_count": 13,
   "metadata": {},
   "outputs": [
    {
     "name": "stdout",
     "output_type": "stream",
     "text": [
      "Average metrics per platform:\n",
      "              platform        likes      shares    comments        views\n",
      "0             Facebook  1289.982428  513.141494  311.160317  6984.239234\n",
      "1            Instagram  1305.837278  497.372404  301.046062  6905.875556\n",
      "2  NonExistingPlatform  1150.166667  515.833333  285.500000  6729.166667\n",
      "3              Twitter  1274.994152  482.437775  305.857980  7013.258065\n"
     ]
    }
   ],
   "source": [
    "# 3 Average likes, shares, comments, and views per post on each platform\n",
    "avg_metrics = data.groupby('platform').agg({\n",
    "    'likes': 'mean',\n",
    "    'shares': 'mean',\n",
    "    'comments': 'mean',\n",
    "    'views': 'mean'\n",
    "}).reset_index()\n",
    "print(\"Average metrics per platform:\")\n",
    "print(avg_metrics)"
   ]
  },
  {
   "cell_type": "markdown",
   "metadata": {},
   "source": [
    "4. What was the total number of each type of post (video, image, text) on each platform?"
   ]
  },
  {
   "cell_type": "code",
   "execution_count": 14,
   "metadata": {},
   "outputs": [
    {
     "name": "stdout",
     "output_type": "stream",
     "text": [
      "Total number of each type of post on each platform:\n",
      "post_type            image  text  video\n",
      "platform                               \n",
      "Facebook               218   204    209\n",
      "Instagram              267   203    208\n",
      "NonExistingPlatform      1     3      2\n",
      "Twitter                249   219    217\n"
     ]
    }
   ],
   "source": [
    "# 4 Total number of each type of post on each platform\n",
    "post_counts = data.groupby(['platform', 'post_type']).size().unstack(fill_value=0)\n",
    "\n",
    "print(\"Total number of each type of post on each platform:\")\n",
    "print(post_counts)"
   ]
  },
  {
   "cell_type": "markdown",
   "metadata": {},
   "source": [
    "5. Which type of post had the highest average engagement?"
   ]
  },
  {
   "cell_type": "code",
   "execution_count": 15,
   "metadata": {},
   "outputs": [
    {
     "name": "stdout",
     "output_type": "stream",
     "text": [
      "Type of post with the highest average engagement: text\n"
     ]
    }
   ],
   "source": [
    "# 5 Type of post with the highest average engagement\n",
    "avg_engagement_per_post_type = data.groupby('post_type')['engagement'].mean().idxmax()\n",
    "\n",
    "print(f\"Type of post with the highest average engagement: {avg_engagement_per_post_type}\")"
   ]
  },
  {
   "cell_type": "markdown",
   "metadata": {},
   "source": [
    "6. What was the total engagement in each quarter of the year?"
   ]
  },
  {
   "cell_type": "code",
   "execution_count": 16,
   "metadata": {},
   "outputs": [
    {
     "name": "stdout",
     "output_type": "stream",
     "text": [
      "Total engagement in each quarter:\n",
      "quarter\n",
      "2022Q4     938895.0\n",
      "2023Q1    1025381.0\n",
      "2023Q2    1000644.0\n",
      "2023Q3     978372.0\n",
      "2023Q4     192516.0\n",
      "Freq: Q-DEC, Name: engagement, dtype: float64\n"
     ]
    }
   ],
   "source": [
    "# 6 Total engagement in each quarter of the year\n",
    "data['quarter'] = data['date'].dt.to_period('Q')\n",
    "quarterly_engagement = data.groupby('quarter')['engagement'].sum()\n",
    "\n",
    "print(\"Total engagement in each quarter:\")\n",
    "print(quarterly_engagement)"
   ]
  }
 ],
 "metadata": {
  "kernelspec": {
   "display_name": "base",
   "language": "python",
   "name": "python3"
  },
  "language_info": {
   "codemirror_mode": {
    "name": "ipython",
    "version": 3
   },
   "file_extension": ".py",
   "mimetype": "text/x-python",
   "name": "python",
   "nbconvert_exporter": "python",
   "pygments_lexer": "ipython3",
   "version": "3.11.5"
  }
 },
 "nbformat": 4,
 "nbformat_minor": 2
}
